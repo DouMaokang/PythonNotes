{
 "cells": [
  {
   "cell_type": "markdown",
   "metadata": {
    "collapsed": true,
    "pycharm": {
     "name": "#%% md\n"
    }
   },
   "source": [
    "# Reference variables\n",
    "1. Variables in Python are **not boxes** (as opposed to variables in C/C++) but mere labels bond to objects.\n",
    "    - Statement `x = ...` binds the name `x` to the object created/referenced on the righthand side.\n",
    "2. Multiple variables can be bond to an object, in which these variables are indeed aliases.\n",
    "\n",
    "# is vs ==\n",
    "1. `is` compares identities of objects (i.e. in CPython, objects' memory addresses), while `==` compares values of objects.\n",
    "    - An object's identity never changes after it's created.\n",
    "2. <font color='red'>**Performance consideration**</font>: `is` is faster than `==` because it cannot be overloaded so that Python does not have to find and invoke special methods to evaluate it (unlike in `==` where the `__eq__` method would be called).\n",
    "3. `is None` is the only common use case, while `==` is usually what we want.\n"
   ]
  },
  {
   "cell_type": "code",
   "execution_count": 5,
   "outputs": [
    {
     "name": "stdout",
     "output_type": "stream",
     "text": [
      "140208027566912 140208027566912\n",
      "140208027613184 140208027566912\n"
     ]
    }
   ],
   "source": [
    "alex = {'name': 'alex', 'age': 21}\n",
    "jane = alex  # jane is an alias for alex\n",
    "\n",
    "assert alex == jane\n",
    "assert alex is jane  # they refer to the same object\n",
    "print(id(alex), id(jane))\n",
    "\n",
    "tom = {'name': 'alex', 'age': 21}\n",
    "assert tom == alex  # values are equal\n",
    "assert tom is not alex  # but they do not refer to the same object\n",
    "print(id(tom), id(alex))"
   ],
   "metadata": {
    "collapsed": false,
    "pycharm": {
     "name": "#%%\n"
    }
   }
  },
  {
   "cell_type": "markdown",
   "source": [
    "# Copies are shallow by default\n",
    "1. `l2 = list(l1)` or `l2 = l1[:]` produces a shallow copy.\n",
    "    - The outermost container is duplicated (i.e. they are distinct objects).\n",
    "    - Objects in the new container are still references to the same items in the original container.\n",
    "2. Shallow copies may bring surprices when container elements are **mutable**.\n",
    "3. Use `copy` module's `deepcopy` for deep copy or `copy` for shallow copy.\n",
    "4."
   ],
   "metadata": {
    "collapsed": false,
    "pycharm": {
     "name": "#%% md\n"
    }
   }
  },
  {
   "cell_type": "code",
   "execution_count": 15,
   "outputs": [],
   "source": [
    "l1 = [1, [2, 3], (4, 5)]\n",
    "l2 = list(l1)  # l2 is a shallow copy of l1\n",
    "assert l1 == l2\n",
    "assert l1 is not l2\n",
    "\n",
    "l1.append(6)\n",
    "assert l1 == [1, [2, 3], (4, 5), 6]\n",
    "assert l2 == [1, [2, 3], (4, 5)]  # l2 is not affected\n",
    "\n",
    "l2[1] += [-1]\n",
    "assert l2 == [1, [2, 3, -1], (4, 5)]\n",
    "assert l1 == [1, [2, 3, -1], (4, 5), 6]  # l1 is affected\n",
    "\n",
    "l2[2] += (-2, )\n",
    "assert l2 == [1, [2, 3, -1], (4, 5, -2)]\n",
    "assert l1 == [1, [2, 3, -1], (4, 5), 6]  # l1 is not affected"
   ],
   "metadata": {
    "collapsed": false,
    "pycharm": {
     "name": "#%%\n"
    }
   }
  },
  {
   "cell_type": "markdown",
   "source": [
    "## Visualization of the above example\n",
    "![Image](./asset/c6_shallow_copy.png)"
   ],
   "metadata": {
    "collapsed": false,
    "pycharm": {
     "name": "#%% md\n"
    }
   }
  },
  {
   "cell_type": "code",
   "execution_count": 20,
   "outputs": [
    {
     "name": "stdout",
     "output_type": "stream",
     "text": [
      "140208029871072 140208022355344 140208022352752\n"
     ]
    }
   ],
   "source": [
    "class Bus:\n",
    "    def __init__(self, passengers = None):\n",
    "        if passengers is None:\n",
    "            self.passengers = []\n",
    "        else:\n",
    "            self.passengers = list(passengers)\n",
    "\n",
    "    def pick(self, name):\n",
    "        self.passengers.append(name)\n",
    "\n",
    "    def drop(self, name):\n",
    "        self.passengers.remove(name)\n",
    "\n",
    "\n",
    "import copy\n",
    "\n",
    "\n",
    "bus1 = Bus([1, 2, 3, 4])\n",
    "bus2 = copy.copy(bus1)  # bus2 is a shallow copy of bus1 -> they share the passenger list object\n",
    "bus3 = copy.deepcopy(bus1)\n",
    "\n",
    "print(id(bus1), id(bus2), id(bus3))\n",
    "assert (bus1 is not bus2) and (bus1 is not bus3)\n",
    "\n",
    "bus1.drop(1)\n",
    "assert bus1.passengers == [2, 3, 4]\n",
    "assert bus2.passengers == [2, 3, 4]  # bus2 passengers list is also changed\n",
    "assert bus3.passengers == [1, 2, 3, 4]"
   ],
   "metadata": {
    "collapsed": false,
    "pycharm": {
     "name": "#%%\n"
    }
   }
  },
  {
   "cell_type": "markdown",
   "source": [
    "## Visualization of the above example\n",
    "![Image](./asset/c6_shallow_copy_objects.png)"
   ],
   "metadata": {
    "collapsed": false,
    "pycharm": {
     "name": "#%% md\n"
    }
   }
  },
  {
   "cell_type": "markdown",
   "source": [
    "# Function parameters as references\n",
    "\n",
    "1. Parameter passing in Python is **call by sharing** (i.e. a reference is passed rather than the actual value).\n",
    "2. When the passed parameter is mutable, there might be surprising effects.\n",
    "3. Function developer should consider if the function caller would expect the passed parameters to be changed (if the passed parameters are mutable).\n",
    "4. Avoid using mutable type as default function parameter\n",
    "    - The default values are evaluted when the function is defined (i.e. usually when the module is laoded) and the default values becomes **attributes of the function object**.\n",
    "    - If a default value is mutable, when it is changed, the change will affect every future call of the function."
   ],
   "metadata": {
    "collapsed": false,
    "pycharm": {
     "name": "#%% md\n"
    }
   }
  },
  {
   "cell_type": "code",
   "execution_count": 28,
   "outputs": [],
   "source": [
    "# example: pass parameter by reference\n",
    "def f(a, b):\n",
    "    a += b\n",
    "    return a\n",
    "\n",
    "x = 1\n",
    "y = 2\n",
    "result = f(x, y)\n",
    "assert result == 3\n",
    "assert x == 1  # int is immutable\n",
    "assert y == 2\n",
    "\n",
    "x = [1, 2]\n",
    "y = [3, 4]\n",
    "result = f(x, y)\n",
    "assert result == [1, 2, 3, 4]\n",
    "assert x == [1, 2, 3, 4]\n",
    "assert y == [3, 4]\n",
    "\n",
    "x = (1, 2)\n",
    "y = (3, 4)\n",
    "result = f(x, y)\n",
    "assert result == (1, 2, 3, 4)\n",
    "assert x == (1, 2)\n",
    "assert y == (3, 4)"
   ],
   "metadata": {
    "collapsed": false,
    "pycharm": {
     "name": "#%%\n"
    }
   }
  },
  {
   "cell_type": "markdown",
   "source": [
    "## Visualization of the above example\n",
    "\n",
    "### List\n",
    "![Image](./asset/c6_function_parameter.png)\n",
    "\n",
    "### Tuple\n",
    "![Image](./asset/c6_function_parameter_immutable.png)"
   ],
   "metadata": {
    "collapsed": false,
    "pycharm": {
     "name": "#%% md\n"
    }
   }
  },
  {
   "cell_type": "code",
   "execution_count": 29,
   "outputs": [],
   "source": [
    "# example: avoid using mutable default function parameters\n",
    "class Bus:\n",
    "    def __init__(self, passengers = []):\n",
    "        self.passengers = passengers\n",
    "\n",
    "    def pick(self, name):\n",
    "        self.passengers.append(name)\n",
    "\n",
    "    def drop(self, name):\n",
    "        self.passengers.remove(name)\n",
    "\n",
    "\n",
    "bus1 = Bus()\n",
    "\n",
    "bus1.pick(1)\n",
    "assert bus1.passengers == [1]\n",
    "\n",
    "bus2 = Bus()\n",
    "assert bus2.passengers == [1]"
   ],
   "metadata": {
    "collapsed": false,
    "pycharm": {
     "name": "#%%\n"
    }
   }
  },
  {
   "cell_type": "markdown",
   "source": [
    "## Visualization of the above example\n",
    "![Image](./asset/c6_function_parameter_mutable_default.png)"
   ],
   "metadata": {
    "collapsed": false
   }
  },
  {
   "cell_type": "code",
   "execution_count": null,
   "outputs": [],
   "source": [],
   "metadata": {
    "collapsed": false,
    "pycharm": {
     "name": "#%%\n"
    }
   }
  }
 ],
 "metadata": {
  "kernelspec": {
   "display_name": "Python 3",
   "language": "python",
   "name": "python3"
  },
  "language_info": {
   "codemirror_mode": {
    "name": "ipython",
    "version": 2
   },
   "file_extension": ".py",
   "mimetype": "text/x-python",
   "name": "python",
   "nbconvert_exporter": "python",
   "pygments_lexer": "ipython2",
   "version": "2.7.6"
  }
 },
 "nbformat": 4,
 "nbformat_minor": 0
}