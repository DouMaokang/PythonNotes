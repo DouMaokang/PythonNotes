{
 "cells": [
  {
   "cell_type": "code",
   "execution_count": 51,
   "outputs": [],
   "source": [
    "import threading\n",
    "import time\n",
    "import random"
   ],
   "metadata": {
    "collapsed": false,
    "pycharm": {
     "name": "#%%\n"
    }
   }
  },
  {
   "cell_type": "markdown",
   "metadata": {
    "collapsed": true,
    "pycharm": {
     "name": "#%% md\n"
    }
   },
   "source": [
    "# Thread objects"
   ]
  },
  {
   "cell_type": "code",
   "execution_count": 43,
   "outputs": [
    {
     "name": "stdout",
     "output_type": "stream",
     "text": [
      "Main\t\t: starting thread\n",
      "Thread\t\t: entering thread\n",
      "Main\t\t: waiting for thread\n",
      "Thread\t\t: executing with args = (1,)\n",
      "Thread\t\t: exiting thread\n",
      "Main\t\t: terminating\n"
     ]
    }
   ],
   "source": [
    "def f(*args):\n",
    "    print(\"Thread\\t\\t: entering thread\")\n",
    "    time.sleep(1)\n",
    "    print(\"Thread\\t\\t: executing with args =\", args)\n",
    "    print(\"Thread\\t\\t: exiting thread\")\n",
    "\n",
    "\n",
    "if __name__ == \"__main__\":\n",
    "    # create a thread\n",
    "    thread = threading.Thread(target=f, args=(1, ), daemon=False)\n",
    "    # start a thread\n",
    "    print(\"Main\\t\\t: starting thread\")\n",
    "    thread.start()  # call .start(), not .run()!\n",
    "    # wait for thread to finish\n",
    "    print(\"Main\\t\\t: waiting for thread\")\n",
    "    thread.join()\n",
    "    print(\"Main\\t\\t: terminating\")"
   ],
   "metadata": {
    "collapsed": false,
    "pycharm": {
     "name": "#%%\n"
    }
   }
  },
  {
   "cell_type": "markdown",
   "source": [
    "# Lock objects"
   ],
   "metadata": {
    "collapsed": false,
    "pycharm": {
     "name": "#%% md\n"
    }
   }
  },
  {
   "cell_type": "code",
   "execution_count": 45,
   "outputs": [
    {
     "name": "stdout",
     "output_type": "stream",
     "text": [
      "Main\t\t: starting thread\n",
      "Thread\t\t: entering thread\n",
      "Main\t\t: waiting for thread\n",
      "Thread\t\t: executing with args = ()\n",
      "Thread\t\t: with block\n",
      "Thread\t\t: exiting thread\n",
      "Main\t\t: terminating\n"
     ]
    }
   ],
   "source": [
    "def f(lock, *args):\n",
    "    print(\"Thread\\t\\t: entering thread\")\n",
    "    lock.acquire()\n",
    "    time.sleep(1)\n",
    "    print(\"Thread\\t\\t: executing with args =\", args)\n",
    "    lock.release()\n",
    "\n",
    "    # use with to manage lock acquiring and releasing\n",
    "    with lock:\n",
    "        print(\"Thread\\t\\t: with block\")\n",
    "\n",
    "    print(\"Thread\\t\\t: exiting thread\")\n",
    "\n",
    "if __name__ == \"__main__\":\n",
    "    # create a lock\n",
    "    lock = threading.Lock()\n",
    "    # acquire the lock\n",
    "    lock.acquire()\n",
    "    thread = threading.Thread(target=f, args=(lock, ), daemon=False)\n",
    "    print(\"Main\\t\\t: starting thread\")\n",
    "    thread.start()\n",
    "    time.sleep(1)\n",
    "    # release the lock so that the thread can acquire it\n",
    "    lock.release()\n",
    "    print(\"Main\\t\\t: waiting for thread\")\n",
    "    thread.join()\n",
    "    print(\"Main\\t\\t: terminating\")"
   ],
   "metadata": {
    "collapsed": false,
    "pycharm": {
     "name": "#%%\n"
    }
   }
  },
  {
   "cell_type": "markdown",
   "source": [
    "# RLock objects"
   ],
   "metadata": {
    "collapsed": false,
    "pycharm": {
     "name": "#%% md\n"
    }
   }
  },
  {
   "cell_type": "code",
   "execution_count": 46,
   "outputs": [
    {
     "name": "stdout",
     "output_type": "stream",
     "text": [
      "Main\t\t: starting thread\n",
      "Thread\t\t: entering thread\n",
      "Main\t\t: waiting for thread\n",
      "Thread\t\t: executing with args = ()\n",
      "Thread\t\t: exiting thread\n",
      "Main\t\t: terminating\n"
     ]
    }
   ],
   "source": [
    "def f(lock, *args):\n",
    "    print(\"Thread\\t\\t: entering thread\")\n",
    "    with lock:\n",
    "        time.sleep(1)\n",
    "        print(\"Thread\\t\\t: executing with args =\", args)\n",
    "    print(\"Thread\\t\\t: exiting thread\")\n",
    "\n",
    "if __name__ == \"__main__\":\n",
    "    # create a Rlock\n",
    "    lock = threading.RLock()\n",
    "    # acquire the lock twice\n",
    "    lock.acquire()\n",
    "    lock.acquire()  # does not block\n",
    "\n",
    "    thread = threading.Thread(target=f, args=(lock, ), daemon=False)\n",
    "    print(\"Main\\t\\t: starting thread\")\n",
    "    thread.start()\n",
    "\n",
    "    # release the lock twice\n",
    "    lock.release()  # the thead is still blocking\n",
    "    time.sleep(1)\n",
    "    lock.release()  # the lock is now fully released\n",
    "\n",
    "    print(\"Main\\t\\t: waiting for thread\")\n",
    "    thread.join()\n",
    "    print(\"Main\\t\\t: terminating\")"
   ],
   "metadata": {
    "collapsed": false,
    "pycharm": {
     "name": "#%%\n"
    }
   }
  },
  {
   "cell_type": "markdown",
   "source": [
    "The `RLock` can be acquired by the **owning thread** multiple times without blocking, but `Lock` blocks as long as it is acquired by a thread."
   ],
   "metadata": {
    "collapsed": false,
    "pycharm": {
     "name": "#%% md\n"
    }
   }
  },
  {
   "cell_type": "code",
   "execution_count": 49,
   "outputs": [
    {
     "name": "stdout",
     "output_type": "stream",
     "text": [
      "Lock acquisition failed\n"
     ]
    }
   ],
   "source": [
    "# An example trying to acquire a primitive lock twice in a thread\n",
    "\n",
    "if __name__ == \"__main__\":\n",
    "    # create a Lock\n",
    "    lock = threading.Lock()\n",
    "    # acquire the lock twice\n",
    "    lock.acquire()\n",
    "    try:\n",
    "        lock.acquire(timeout=3)  # blocks forever if timeout is not set\n",
    "    finally:\n",
    "        print(\"Lock acquisition failed\")\n",
    "\n",
    "    lock.release()"
   ],
   "metadata": {
    "collapsed": false,
    "pycharm": {
     "name": "#%%\n"
    }
   }
  },
  {
   "cell_type": "markdown",
   "source": [
    "# Semaphore objects\n",
    "\n",
    "## How it works\n",
    "- A semaphore manages an **atomic** counter which is decremented by each `acquire()` call and incremented by each `release()` call.\n",
    "- The counter is always >= 0.\n",
    "- When the counter is 0, `.acquire()` blocks until some other threads calls `.release()`.\n",
    "\n",
    "\n",
    "## How to use\n",
    "```\n",
    "semaphore = theading.Semaphore(initial_counter)\n",
    "\n",
    "semaphore.acquire()\n",
    "semaphore.release()\n",
    "```\n",
    "\n",
    "\n",
    "## When to use\n",
    "- Semaphores are frequently used to protect a resource that has a limited capacity."
   ],
   "metadata": {
    "collapsed": false,
    "pycharm": {
     "name": "#%% md\n"
    }
   }
  },
  {
   "cell_type": "markdown",
   "source": [
    "# Condition objects\n",
    "\n",
    "## How to use\n",
    "1. `acquire()` and `release()`\n",
    "2. `wait()` releases the lock and waits to be woken up\n",
    "3. `notify()` wakes up a thread waiting on the condition, but does not release the lock\n",
    "4. `notify_all()` wakes up all threads waiting for the condition.\n",
    "\n",
    "## When to use\n",
    "- The typical programming style using condition variables uses the lock to synchronize access to some shared state (see [details](https://docs.python.org/3/library/threading.html#condition-objects))."
   ],
   "metadata": {
    "collapsed": false,
    "pycharm": {
     "name": "#%% md\n"
    }
   }
  },
  {
   "cell_type": "markdown",
   "source": [
    "## A producer-consumer example using threading.Condition"
   ],
   "metadata": {
    "collapsed": false,
    "pycharm": {
     "name": "#%% md\n"
    }
   }
  },
  {
   "cell_type": "code",
   "execution_count": 52,
   "outputs": [
    {
     "name": "stdout",
     "output_type": "stream",
     "text": [
      "working on item creation, it will take: 1 seconds\n",
      "consuming item from list...\n",
      "No item to consume...\n",
      "acquiring lock...\n",
      "Adding item to list...\n",
      "working on item creation, it will take: 2 seconds\n",
      "notification received about item production...\n",
      "consuming item from list...\n",
      "Item consumed:  1\n",
      "consuming item from list...\n",
      "No item to consume...\n",
      "acquiring lock...\n",
      "Adding item to list...\n",
      "notification received about item production...\n",
      "consuming item from list...\n",
      "Item consumed:  2\n",
      "consuming item from list...\n",
      "No item to consume...\n",
      "waiting timeout...\n",
      "Done\n"
     ]
    }
   ],
   "source": [
    "class SomeItem:\n",
    "  # init method\n",
    "  def __init__(self):\n",
    "    # initialize empty list\n",
    "    self.list = []\n",
    "\n",
    "  # add to list method for producer\n",
    "  def produce(self, item):\n",
    "    print(\"Adding item to list...\")\n",
    "    self.list.append(item)\n",
    "\n",
    "  # remove item from list method for consumer\n",
    "  def consume(self):\n",
    "    print(\"consuming item from list...\")\n",
    "    item = self.list[0]\n",
    "    print(\"Item consumed: \", item)\n",
    "    self.list.remove(item)\n",
    "\n",
    "def producer(si, cond):\n",
    "    r = random.randint(1,5)\n",
    "    # creating random number of items\n",
    "    for i in range(1, r):\n",
    "      print(\"working on item creation, it will take: \" + str(i) + \" seconds\")\n",
    "      time.sleep(i)\n",
    "      print(\"acquiring lock...\")\n",
    "      cond.acquire()\n",
    "      try:\n",
    "        si.produce(i)\n",
    "        cond.notify()  # wakes up a waiting thread, but yet to release the lock\n",
    "      finally:\n",
    "        cond.release()  # explicitly releases the lock\n",
    "\n",
    "def consumer(si, cond):\n",
    "    cond.acquire()\n",
    "    while True:\n",
    "      try:\n",
    "        si.consume()\n",
    "      except:\n",
    "        print(\"No item to consume...\")\n",
    "        # wait with a maximum timeout of 10 sec\n",
    "        val = cond.wait(10)   # releases the lock\n",
    "        if val:\n",
    "          print(\"notification received about item production...\")\n",
    "          continue\n",
    "        else:\n",
    "          print(\"waiting timeout...\")\n",
    "          break\n",
    "\n",
    "    cond.release()\n",
    "\n",
    "if __name__=='__main__':\n",
    "  # condition object\n",
    "  cond = threading.Condition()\n",
    "  # SomeItem object\n",
    "  si = SomeItem()\n",
    "  # producer thread\n",
    "  p = threading.Thread(target=producer, args=(si,cond,))\n",
    "  p.start()\n",
    "  # consumer thread\n",
    "  c = threading.Thread(target=consumer, args=(si,cond,))\n",
    "  c.start()\n",
    "\n",
    "  #print('Waiting for producer and consumer threads...')\n",
    "  p.join()\n",
    "  c.join()\n",
    "  print(\"Done\")"
   ],
   "metadata": {
    "collapsed": false,
    "pycharm": {
     "name": "#%%\n"
    }
   }
  },
  {
   "cell_type": "code",
   "execution_count": null,
   "outputs": [],
   "source": [],
   "metadata": {
    "collapsed": false,
    "pycharm": {
     "name": "#%%\n"
    }
   }
  }
 ],
 "metadata": {
  "kernelspec": {
   "display_name": "Python 3",
   "language": "python",
   "name": "python3"
  },
  "language_info": {
   "codemirror_mode": {
    "name": "ipython",
    "version": 2
   },
   "file_extension": ".py",
   "mimetype": "text/x-python",
   "name": "python",
   "nbconvert_exporter": "python",
   "pygments_lexer": "ipython2",
   "version": "2.7.6"
  }
 },
 "nbformat": 4,
 "nbformat_minor": 0
}