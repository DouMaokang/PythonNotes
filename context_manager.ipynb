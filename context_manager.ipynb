{
 "cells": [
  {
   "cell_type": "markdown",
   "source": [],
   "metadata": {
    "collapsed": false
   }
  },
  {
   "cell_type": "markdown",
   "source": [
    "Ref: [Context Manager and with Statement by RealPython](https://realpython.com/python-with-statement)"
   ],
   "metadata": {
    "collapsed": false,
    "pycharm": {
     "name": "#%% md\n"
    }
   }
  },
  {
   "cell_type": "markdown",
   "source": [
    "External resources require proper management to avoid resource leaks in Python programs.\n",
    "\n",
    "```\n",
    "file = open(\"some.txt\", \"w\")\n",
    "file.write(\"Hello world\")\n",
    "file.close()  # required to release the file descriptor\n",
    "```\n",
    "\n",
    "However, the implementation above does not guarantee the file will be closed if an **exception** occurs before `.close()`.\n",
    "\n",
    "Generally, to manage external resources, wrap the code in:\n",
    "1. A `try...finally` construct (general, applies to all)\n",
    "2. A `with` construct (limited to context managers)"
   ],
   "metadata": {
    "collapsed": false,
    "pycharm": {
     "name": "#%% md\n"
    }
   }
  },
  {
   "cell_type": "markdown",
   "source": [
    "# try ... finally"
   ],
   "metadata": {
    "collapsed": false,
    "pycharm": {
     "name": "#%% md\n"
    }
   }
  },
  {
   "cell_type": "code",
   "execution_count": 1,
   "outputs": [],
   "source": [
    "file = open(\"examples/hello.txt\", \"w\")\n",
    "\n",
    "try:\n",
    "    file.write(\"Hello, world\")\n",
    "finally:\n",
    "    file.close()"
   ],
   "metadata": {
    "collapsed": false,
    "pycharm": {
     "name": "#%%\n"
    }
   }
  },
  {
   "cell_type": "markdown",
   "metadata": {
    "collapsed": true,
    "pycharm": {
     "name": "#%% md\n"
    }
   },
   "source": [
    "# with\n",
    "\n",
    "The `with` statement takes advantage of existing **context managers** to automatically handle resource setup and teardown.\n",
    "\n",
    "It creates a **runtime context** that allows you to run a group of statements under the control of a context manager.\n",
    "\n",
    "## Syntax\n",
    "Syntax:\n",
    "```\n",
    "with expression [as target_var]:\n",
    "    do_something(target_var)\n",
    "```\n",
    "`as target_var` is optional.\n",
    "\n",
    "Or, more generally:\n",
    "```\n",
    "with A() as a, B() as b:\n",
    "    pass\n",
    "```\n",
    "\n",
    "## Context protocol manager\n",
    "The **context manager object** results from evaluating the `expression` after `with`. Thus, `expression` must return an object that implements the **context manager protocol**.\n",
    "\n",
    "The protocol consists of two special methods:\n",
    "1. `.__enter__()` is called by the `with` statement to enter the runtime context.\n",
    "2. `.__exit__()` is called when the execution leaves the `with` block."
   ]
  },
  {
   "cell_type": "code",
   "execution_count": 2,
   "outputs": [],
   "source": [
    "with open(\"examples/hello.txt\", mode=\"w\") as file:\n",
    "    file.write(\"Hello, world\")"
   ],
   "metadata": {
    "collapsed": false,
    "pycharm": {
     "name": "#%%\n"
    }
   }
  },
  {
   "cell_type": "markdown",
   "source": [
    "When you run this with statement:\n",
    "1. `open()` returns an `io.TextIOBase` object. This object is also a context manager\n",
    "2. `with` statement calls `.__enter__()` and assigns its return value to `file`.\n",
    "3. When the block ends, `.__exit__()` automatically gets called and closes the file for you, even if an exception is raised inside the with block."
   ],
   "metadata": {
    "collapsed": false
   }
  },
  {
   "cell_type": "markdown",
   "source": [],
   "metadata": {
    "collapsed": false
   }
  },
  {
   "cell_type": "code",
   "execution_count": null,
   "outputs": [],
   "source": [],
   "metadata": {
    "collapsed": false,
    "pycharm": {
     "name": "#%%\n"
    }
   }
  }
 ],
 "metadata": {
  "kernelspec": {
   "display_name": "Python 3",
   "language": "python",
   "name": "python3"
  },
  "language_info": {
   "codemirror_mode": {
    "name": "ipython",
    "version": 2
   },
   "file_extension": ".py",
   "mimetype": "text/x-python",
   "name": "python",
   "nbconvert_exporter": "python",
   "pygments_lexer": "ipython2",
   "version": "2.7.6"
  }
 },
 "nbformat": 4,
 "nbformat_minor": 0
}